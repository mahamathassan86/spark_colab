{
  "nbformat": 4,
  "nbformat_minor": 0,
  "metadata": {
    "colab": {
      "provenance": []
    },
    "kernelspec": {
      "name": "python3",
      "display_name": "Python 3"
    },
    "language_info": {
      "name": "python"
    }
  },
  "cells": [
    {
      "cell_type": "markdown",
      "source": [
        "## pip install pyspark\n"
      ],
      "metadata": {
        "id": "gq2JvIijoBhS"
      }
    },
    {
      "cell_type": "code",
      "execution_count": null,
      "metadata": {
        "id": "Io4fH_aEn2WT"
      },
      "outputs": [],
      "source": [
        "#!pip install pyspark\n"
      ]
    },
    {
      "cell_type": "markdown",
      "source": [
        "## 1.Création d'une session Spark"
      ],
      "metadata": {
        "id": "hAbToAPnoitC"
      }
    },
    {
      "cell_type": "code",
      "source": [
        "from pyspark.sql import SparkSession        # SparkSession est le point d’entrée principal pour travailler avec DataFrames dans PySpark.\n",
        "\n",
        "spark = SparkSession.builder \\\n",
        "    .appName(\"MonPremierPySpark\") \\\n",
        "    .getOrCreate()\n"
      ],
      "metadata": {
        "id": "3T7qODc5n6Jn"
      },
      "execution_count": 1,
      "outputs": []
    },
    {
      "cell_type": "markdown",
      "source": [
        "##2. Chargement des données"
      ],
      "metadata": {
        "id": "hsJf1OEWpQq0"
      }
    },
    {
      "cell_type": "code",
      "source": [
        "df = spark.read.csv(\"Espérance de vie.csv\", header=True, inferSchema=True) # header=True : la première ligne contient les noms de colonnes et inferSchema=True : Spark devine les types de données\n"
      ],
      "metadata": {
        "id": "EH0_BM2-n6Mz"
      },
      "execution_count": 2,
      "outputs": []
    },
    {
      "cell_type": "code",
      "source": [
        "df.show(5) # afficher les données"
      ],
      "metadata": {
        "colab": {
          "base_uri": "https://localhost:8080/"
        },
        "id": "GjIjrvtPn6PT",
        "outputId": "a478fc5c-41ac-4a8b-f58a-afa6be6d33f3"
      },
      "execution_count": null,
      "outputs": [
        {
          "output_type": "stream",
          "name": "stdout",
          "text": [
            "+---+-----------+-----+----------+----------------+---------------------+--------------------+------+-----------------------+----------+--------+----+------------------------------------+-----+----------------+---------+---------+----------+-----------+---------------------+-------------------+--------------------------------------+-------------+\n",
            "|_c0|       Pays|Année|    Statut|Espérance de vie|Mortalité des adultes|Décès de nourrissons|Alcool|Dépenses en pourcentage|Hépatite B|Rougeole| IMC|Décès d'enfants de moins de cinq ans|Polio|Dépenses totales|Diphtérie|VIH/SIDA |       PIB| Population| thinness  1-19 years| thinness 5-9 years|Composition des revenus des ressources|Scolarisation|\n",
            "+---+-----------+-----+----------+----------------+---------------------+--------------------+------+-----------------------+----------+--------+----+------------------------------------+-----+----------------+---------+---------+----------+-----------+---------------------+-------------------+--------------------------------------+-------------+\n",
            "|  0|Afghanistan| 2015|Developing|            65.0|                263.0|                  62|  0.01|            71.27962362|      65.0|    1154|19.1|                                  83|  6.0|            8.16|     65.0|      0.1| 584.25921|3.3736494E7|                 17.2|               17.3|                                 0.479|         10.1|\n",
            "|  1|Afghanistan| 2014|Developing|            59.9|                271.0|                  64|  0.01|            73.52358168|      62.0|     492|18.6|                                  86| 58.0|            8.18|     62.0|      0.1|612.696514|   327582.0|                 17.5|               17.5|                                 0.476|         10.0|\n",
            "|  2|Afghanistan| 2013|Developing|            59.9|                268.0|                  66|  0.01|            73.21924272|      64.0|     430|18.1|                                  89| 62.0|            8.13|     64.0|      0.1|631.744976|3.1731688E7|                 17.7|               17.7|                                  0.47|          9.9|\n",
            "|  3|Afghanistan| 2012|Developing|            59.5|                272.0|                  69|  0.01|             78.1842153|      67.0|    2787|17.6|                                  93| 67.0|            8.52|     67.0|      0.1|   669.959|  3696958.0|                 17.9|               18.0|                                 0.463|          9.8|\n",
            "|  4|Afghanistan| 2011|Developing|            59.2|                275.0|                  71|  0.01|            7.097108703|      68.0|    3013|17.2|                                  97| 68.0|            7.87|     68.0|      0.1| 63.537231|  2978599.0|                 18.2|               18.2|                                 0.454|          9.5|\n",
            "+---+-----------+-----+----------+----------------+---------------------+--------------------+------+-----------------------+----------+--------+----+------------------------------------+-----+----------------+---------+---------+----------+-----------+---------------------+-------------------+--------------------------------------+-------------+\n",
            "only showing top 5 rows\n",
            "\n"
          ]
        }
      ]
    },
    {
      "cell_type": "code",
      "source": [
        "type(df) # type de données"
      ],
      "metadata": {
        "colab": {
          "base_uri": "https://localhost:8080/",
          "height": 187
        },
        "id": "qM6CSVJyn6SD",
        "outputId": "11d18679-b84f-4370-d887-9b387149db7e"
      },
      "execution_count": null,
      "outputs": [
        {
          "output_type": "execute_result",
          "data": {
            "text/plain": [
              "pyspark.sql.dataframe.DataFrame"
            ],
            "text/html": [
              "<div style=\"max-width:800px; border: 1px solid var(--colab-border-color);\"><style>\n",
              "      pre.function-repr-contents {\n",
              "        overflow-x: auto;\n",
              "        padding: 8px 12px;\n",
              "        max-height: 500px;\n",
              "      }\n",
              "\n",
              "      pre.function-repr-contents.function-repr-contents-collapsed {\n",
              "        cursor: pointer;\n",
              "        max-height: 100px;\n",
              "      }\n",
              "    </style>\n",
              "    <pre style=\"white-space: initial; background:\n",
              "         var(--colab-secondary-surface-color); padding: 8px 12px;\n",
              "         border-bottom: 1px solid var(--colab-border-color);\"><b>pyspark.sql.dataframe.DataFrame</b><br/>def __init__(jdf: JavaObject, sql_ctx: Union[&#x27;SQLContext&#x27;, &#x27;SparkSession&#x27;])</pre><pre class=\"function-repr-contents function-repr-contents-collapsed\" style=\"\"><a class=\"filepath\" style=\"display:none\" href=\"#\">/usr/local/lib/python3.11/dist-packages/pyspark/sql/dataframe.py</a>A distributed collection of data grouped into named columns.\n",
              "\n",
              ".. versionadded:: 1.3.0\n",
              "\n",
              ".. versionchanged:: 3.4.0\n",
              "    Supports Spark Connect.\n",
              "\n",
              "Examples\n",
              "--------\n",
              "A :class:`DataFrame` is equivalent to a relational table in Spark SQL,\n",
              "and can be created using various functions in :class:`SparkSession`:\n",
              "\n",
              "&gt;&gt;&gt; people = spark.createDataFrame([\n",
              "...     {&quot;deptId&quot;: 1, &quot;age&quot;: 40, &quot;name&quot;: &quot;Hyukjin Kwon&quot;, &quot;gender&quot;: &quot;M&quot;, &quot;salary&quot;: 50},\n",
              "...     {&quot;deptId&quot;: 1, &quot;age&quot;: 50, &quot;name&quot;: &quot;Takuya Ueshin&quot;, &quot;gender&quot;: &quot;M&quot;, &quot;salary&quot;: 100},\n",
              "...     {&quot;deptId&quot;: 2, &quot;age&quot;: 60, &quot;name&quot;: &quot;Xinrong Meng&quot;, &quot;gender&quot;: &quot;F&quot;, &quot;salary&quot;: 150},\n",
              "...     {&quot;deptId&quot;: 3, &quot;age&quot;: 20, &quot;name&quot;: &quot;Haejoon Lee&quot;, &quot;gender&quot;: &quot;M&quot;, &quot;salary&quot;: 200}\n",
              "... ])\n",
              "\n",
              "Once created, it can be manipulated using the various domain-specific-language\n",
              "(DSL) functions defined in: :class:`DataFrame`, :class:`Column`.\n",
              "\n",
              "To select a column from the :class:`DataFrame`, use the apply method:\n",
              "\n",
              "&gt;&gt;&gt; age_col = people.age\n",
              "\n",
              "A more concrete example:\n",
              "\n",
              "&gt;&gt;&gt; # To create DataFrame using SparkSession\n",
              "... department = spark.createDataFrame([\n",
              "...     {&quot;id&quot;: 1, &quot;name&quot;: &quot;PySpark&quot;},\n",
              "...     {&quot;id&quot;: 2, &quot;name&quot;: &quot;ML&quot;},\n",
              "...     {&quot;id&quot;: 3, &quot;name&quot;: &quot;Spark SQL&quot;}\n",
              "... ])\n",
              "\n",
              "&gt;&gt;&gt; people.filter(people.age &gt; 30).join(\n",
              "...     department, people.deptId == department.id).groupBy(\n",
              "...     department.name, &quot;gender&quot;).agg({&quot;salary&quot;: &quot;avg&quot;, &quot;age&quot;: &quot;max&quot;}).show()\n",
              "+-------+------+-----------+--------+\n",
              "|   name|gender|avg(salary)|max(age)|\n",
              "+-------+------+-----------+--------+\n",
              "|     ML|     F|      150.0|      60|\n",
              "|PySpark|     M|       75.0|      50|\n",
              "+-------+------+-----------+--------+\n",
              "\n",
              "Notes\n",
              "-----\n",
              "A DataFrame should only be created as described above. It should not be directly\n",
              "created via using the constructor.</pre>\n",
              "      <script>\n",
              "      if (google.colab.kernel.accessAllowed && google.colab.files && google.colab.files.view) {\n",
              "        for (const element of document.querySelectorAll('.filepath')) {\n",
              "          element.style.display = 'block'\n",
              "          element.onclick = (event) => {\n",
              "            event.preventDefault();\n",
              "            event.stopPropagation();\n",
              "            google.colab.files.view(element.textContent, 80);\n",
              "          };\n",
              "        }\n",
              "      }\n",
              "      for (const element of document.querySelectorAll('.function-repr-contents')) {\n",
              "        element.onclick = (event) => {\n",
              "          event.preventDefault();\n",
              "          event.stopPropagation();\n",
              "          element.classList.toggle('function-repr-contents-collapsed');\n",
              "        };\n",
              "      }\n",
              "      </script>\n",
              "      </div>"
            ]
          },
          "metadata": {},
          "execution_count": 143
        }
      ]
    },
    {
      "cell_type": "markdown",
      "source": [
        "## 3. Manipulation de DataFrames"
      ],
      "metadata": {
        "id": "Hid_Y926ti_U"
      }
    },
    {
      "cell_type": "code",
      "source": [
        "df.printSchema()  # Afficher le schéma\n",
        "\n",
        "\n"
      ],
      "metadata": {
        "colab": {
          "base_uri": "https://localhost:8080/"
        },
        "id": "XS8q-koun6Uz",
        "outputId": "9b430355-6a0b-40bf-91ab-df9bb274fefe"
      },
      "execution_count": 3,
      "outputs": [
        {
          "output_type": "stream",
          "name": "stdout",
          "text": [
            "root\n",
            " |-- _c0: integer (nullable = true)\n",
            " |-- Pays: string (nullable = true)\n",
            " |-- Année: integer (nullable = true)\n",
            " |-- Statut: string (nullable = true)\n",
            " |-- Espérance de vie: double (nullable = true)\n",
            " |-- Mortalité des adultes: double (nullable = true)\n",
            " |-- Décès de nourrissons: integer (nullable = true)\n",
            " |-- Alcool: double (nullable = true)\n",
            " |-- Dépenses en pourcentage: double (nullable = true)\n",
            " |-- Hépatite B: double (nullable = true)\n",
            " |-- Rougeole: integer (nullable = true)\n",
            " |-- IMC: double (nullable = true)\n",
            " |-- Décès d'enfants de moins de cinq ans: integer (nullable = true)\n",
            " |-- Polio: double (nullable = true)\n",
            " |-- Dépenses totales: double (nullable = true)\n",
            " |-- Diphtérie: double (nullable = true)\n",
            " |-- VIH/SIDA : double (nullable = true)\n",
            " |-- PIB: double (nullable = true)\n",
            " |-- Population: double (nullable = true)\n",
            " |--  thinness  1-19 years: double (nullable = true)\n",
            " |--  thinness 5-9 years: double (nullable = true)\n",
            " |-- Composition des revenus des ressources: double (nullable = true)\n",
            " |-- Scolarisation: double (nullable = true)\n",
            "\n"
          ]
        }
      ]
    },
    {
      "cell_type": "code",
      "source": [
        "df.select(\"Pays\", \"Statut\",\"Espérance de vie\").show() # Sélection de colonnes\n"
      ],
      "metadata": {
        "colab": {
          "base_uri": "https://localhost:8080/"
        },
        "id": "LQ6NjxO6n6Zj",
        "outputId": "24c7c842-2057-454a-d28f-109d508f3478"
      },
      "execution_count": 4,
      "outputs": [
        {
          "output_type": "stream",
          "name": "stdout",
          "text": [
            "+-----------+----------+----------------+\n",
            "|       Pays|    Statut|Espérance de vie|\n",
            "+-----------+----------+----------------+\n",
            "|Afghanistan|Developing|            65.0|\n",
            "|Afghanistan|Developing|            59.9|\n",
            "|Afghanistan|Developing|            59.9|\n",
            "|Afghanistan|Developing|            59.5|\n",
            "|Afghanistan|Developing|            59.2|\n",
            "|Afghanistan|Developing|            58.8|\n",
            "|Afghanistan|Developing|            58.6|\n",
            "|Afghanistan|Developing|            58.1|\n",
            "|Afghanistan|Developing|            57.5|\n",
            "|Afghanistan|Developing|            57.3|\n",
            "|Afghanistan|Developing|            57.3|\n",
            "|Afghanistan|Developing|            57.0|\n",
            "|Afghanistan|Developing|            56.7|\n",
            "|Afghanistan|Developing|            56.2|\n",
            "|Afghanistan|Developing|            55.3|\n",
            "|Afghanistan|Developing|            54.8|\n",
            "|    Albania|Developing|            77.8|\n",
            "|    Albania|Developing|            77.5|\n",
            "|    Albania|Developing|            77.2|\n",
            "|    Albania|Developing|            76.9|\n",
            "+-----------+----------+----------------+\n",
            "only showing top 20 rows\n",
            "\n"
          ]
        }
      ]
    },
    {
      "cell_type": "code",
      "source": [
        "from pyspark.sql.functions import col            # Ajout de colonnes\n",
        "\n",
        "df = df.withColumn(\"Espérance de vie_plus_5\", col(\"Espérance de vie\") + 5)\n",
        "df.show()\n"
      ],
      "metadata": {
        "colab": {
          "base_uri": "https://localhost:8080/"
        },
        "id": "5pZWNcvon6c5",
        "outputId": "d79fa64a-bf00-465a-cdbb-7cdea8ab4f02"
      },
      "execution_count": 5,
      "outputs": [
        {
          "output_type": "stream",
          "name": "stdout",
          "text": [
            "+---+-----------+-----+----------+----------------+---------------------+--------------------+------+-----------------------+----------+--------+----+------------------------------------+-----+----------------+---------+---------+-----------+-----------+---------------------+-------------------+--------------------------------------+-------------+-----------------------+\n",
            "|_c0|       Pays|Année|    Statut|Espérance de vie|Mortalité des adultes|Décès de nourrissons|Alcool|Dépenses en pourcentage|Hépatite B|Rougeole| IMC|Décès d'enfants de moins de cinq ans|Polio|Dépenses totales|Diphtérie|VIH/SIDA |        PIB| Population| thinness  1-19 years| thinness 5-9 years|Composition des revenus des ressources|Scolarisation|Espérance de vie_plus_5|\n",
            "+---+-----------+-----+----------+----------------+---------------------+--------------------+------+-----------------------+----------+--------+----+------------------------------------+-----+----------------+---------+---------+-----------+-----------+---------------------+-------------------+--------------------------------------+-------------+-----------------------+\n",
            "|  0|Afghanistan| 2015|Developing|            65.0|                263.0|                  62|  0.01|            71.27962362|      65.0|    1154|19.1|                                  83|  6.0|            8.16|     65.0|      0.1|  584.25921|3.3736494E7|                 17.2|               17.3|                                 0.479|         10.1|                   70.0|\n",
            "|  1|Afghanistan| 2014|Developing|            59.9|                271.0|                  64|  0.01|            73.52358168|      62.0|     492|18.6|                                  86| 58.0|            8.18|     62.0|      0.1| 612.696514|   327582.0|                 17.5|               17.5|                                 0.476|         10.0|                   64.9|\n",
            "|  2|Afghanistan| 2013|Developing|            59.9|                268.0|                  66|  0.01|            73.21924272|      64.0|     430|18.1|                                  89| 62.0|            8.13|     64.0|      0.1| 631.744976|3.1731688E7|                 17.7|               17.7|                                  0.47|          9.9|                   64.9|\n",
            "|  3|Afghanistan| 2012|Developing|            59.5|                272.0|                  69|  0.01|             78.1842153|      67.0|    2787|17.6|                                  93| 67.0|            8.52|     67.0|      0.1|    669.959|  3696958.0|                 17.9|               18.0|                                 0.463|          9.8|                   64.5|\n",
            "|  4|Afghanistan| 2011|Developing|            59.2|                275.0|                  71|  0.01|            7.097108703|      68.0|    3013|17.2|                                  97| 68.0|            7.87|     68.0|      0.1|  63.537231|  2978599.0|                 18.2|               18.2|                                 0.454|          9.5|                   64.2|\n",
            "|  5|Afghanistan| 2010|Developing|            58.8|                279.0|                  74|  0.01|            79.67936736|      66.0|    1989|16.7|                                 102| 66.0|             9.2|     66.0|      0.1|  553.32894|  2883167.0|                 18.4|               18.4|                                 0.448|          9.2|                   63.8|\n",
            "|  6|Afghanistan| 2009|Developing|            58.6|                281.0|                  77|  0.01|            56.76221682|      63.0|    2861|16.2|                                 106| 63.0|            9.42|     63.0|      0.1|445.8932979|   284331.0|                 18.6|               18.7|                                 0.434|          8.9|                   63.6|\n",
            "|  7|Afghanistan| 2008|Developing|            58.1|                287.0|                  80|  0.03|            25.87392536|      64.0|    1599|15.7|                                 110| 64.0|            8.33|     64.0|      0.1|373.3611163|  2729431.0|                 18.8|               18.9|                                 0.433|          8.7|                   63.1|\n",
            "|  8|Afghanistan| 2007|Developing|            57.5|                295.0|                  82|  0.02|            10.91015598|      63.0|    1141|15.2|                                 113| 63.0|            6.73|     63.0|      0.1| 369.835796|2.6616792E7|                 19.0|               19.1|                                 0.415|          8.4|                   62.5|\n",
            "|  9|Afghanistan| 2006|Developing|            57.3|                295.0|                  84|  0.03|            17.17151751|      64.0|    1990|14.7|                                 116| 58.0|            7.43|     58.0|      0.1|  272.56377|  2589345.0|                 19.2|               19.3|                                 0.405|          8.1|                   62.3|\n",
            "| 10|Afghanistan| 2005|Developing|            57.3|                291.0|                  85|  0.02|            1.388647732|      66.0|    1296|14.2|                                 118| 58.0|             8.7|     58.0|      0.1| 25.2941299|   257798.0|                 19.3|               19.5|                                 0.396|          7.9|                   62.3|\n",
            "| 11|Afghanistan| 2004|Developing|            57.0|                293.0|                  87|  0.02|            15.29606643|      67.0|     466|13.8|                                 120|  5.0|            8.79|      5.0|      0.1|219.1413528|2.4118979E7|                 19.5|               19.7|                                 0.381|          6.8|                   62.0|\n",
            "| 12|Afghanistan| 2003|Developing|            56.7|                295.0|                  87|  0.01|            11.08905273|      65.0|     798|13.4|                                 122| 41.0|            8.82|     41.0|      0.1|198.7285436|  2364851.0|                 19.7|               19.9|                                 0.373|          6.5|                   61.7|\n",
            "| 13|Afghanistan| 2002|Developing|            56.2|                  3.0|                  88|  0.01|            16.88735091|      64.0|    2486|13.0|                                 122| 36.0|            7.76|     36.0|      0.1|  187.84595|2.1979923E7|                 19.9|                2.2|                                 0.341|          6.2|                   61.2|\n",
            "| 14|Afghanistan| 2001|Developing|            55.3|                316.0|                  88|  0.01|             10.5747282|      63.0|    8762|12.6|                                 122| 35.0|             7.8|     33.0|      0.1|  117.49698|  2966463.0|                  2.1|                2.4|                                  0.34|          5.9|                   60.3|\n",
            "| 15|Afghanistan| 2000|Developing|            54.8|                321.0|                  88|  0.01|               10.42496|      62.0|    6532|12.2|                                 122| 24.0|             8.2|     24.0|      0.1|     114.56|   293756.0|                  2.3|                2.5|                                 0.338|          5.5|                   59.8|\n",
            "| 16|    Albania| 2015|Developing|            77.8|                 74.0|                   0|   4.6|            364.9752287|      99.0|       0|58.0|                                   0| 99.0|             6.0|     99.0|      0.1| 3954.22783|    28873.0|                  1.2|                1.3|                                 0.762|         14.2|                   82.8|\n",
            "| 17|    Albania| 2014|Developing|            77.5|                  8.0|                   0|  4.51|            428.7490668|      98.0|       0|57.2|                                   1| 98.0|            5.88|     98.0|      0.1|4575.763787|   288914.0|                  1.2|                1.3|                                 0.761|         14.2|                   82.5|\n",
            "| 18|    Albania| 2013|Developing|            77.2|                 84.0|                   0|  4.76|            430.8769785|      99.0|       0|56.5|                                   1| 99.0|            5.66|     99.0|      0.1| 4414.72314|   289592.0|                  1.3|                1.4|                                 0.759|         14.2|                   82.2|\n",
            "| 19|    Albania| 2012|Developing|            76.9|                 86.0|                   0|  5.14|            412.4433563|      99.0|       9|55.8|                                   1| 99.0|            5.59|     99.0|      0.1| 4247.61438|     2941.0|                  1.3|                1.4|                                 0.752|         14.2|                   81.9|\n",
            "+---+-----------+-----+----------+----------------+---------------------+--------------------+------+-----------------------+----------+--------+----+------------------------------------+-----+----------------+---------+---------+-----------+-----------+---------------------+-------------------+--------------------------------------+-------------+-----------------------+\n",
            "only showing top 20 rows\n",
            "\n"
          ]
        }
      ]
    },
    {
      "cell_type": "markdown",
      "source": [
        "## 4. Filtres, Sélections, Agrégations"
      ],
      "metadata": {
        "id": "YUmz9e_oxh-g"
      }
    },
    {
      "cell_type": "code",
      "source": [
        "df.filter(col(\"Année\") > 2013).show()             # Filtrer les données\n"
      ],
      "metadata": {
        "colab": {
          "base_uri": "https://localhost:8080/"
        },
        "id": "hIbsC3OyxY7R",
        "outputId": "4abad841-a7dc-4ae9-ea9d-aa718c9d6548"
      },
      "execution_count": 6,
      "outputs": [
        {
          "output_type": "stream",
          "name": "stdout",
          "text": [
            "+---+-------------------+-----+----------+----------------+---------------------+--------------------+------+-----------------------+----------+--------+----+------------------------------------+-----+----------------+---------+---------+-----------+-----------+---------------------+-------------------+--------------------------------------+-------------+-----------------------+\n",
            "|_c0|               Pays|Année|    Statut|Espérance de vie|Mortalité des adultes|Décès de nourrissons|Alcool|Dépenses en pourcentage|Hépatite B|Rougeole| IMC|Décès d'enfants de moins de cinq ans|Polio|Dépenses totales|Diphtérie|VIH/SIDA |        PIB| Population| thinness  1-19 years| thinness 5-9 years|Composition des revenus des ressources|Scolarisation|Espérance de vie_plus_5|\n",
            "+---+-------------------+-----+----------+----------------+---------------------+--------------------+------+-----------------------+----------+--------+----+------------------------------------+-----+----------------+---------+---------+-----------+-----------+---------------------+-------------------+--------------------------------------+-------------+-----------------------+\n",
            "|  0|        Afghanistan| 2015|Developing|            65.0|                263.0|                  62|  0.01|            71.27962362|      65.0|    1154|19.1|                                  83|  6.0|            8.16|     65.0|      0.1|  584.25921|3.3736494E7|                 17.2|               17.3|                                 0.479|         10.1|                   70.0|\n",
            "|  1|        Afghanistan| 2014|Developing|            59.9|                271.0|                  64|  0.01|            73.52358168|      62.0|     492|18.6|                                  86| 58.0|            8.18|     62.0|      0.1| 612.696514|   327582.0|                 17.5|               17.5|                                 0.476|         10.0|                   64.9|\n",
            "| 16|            Albania| 2015|Developing|            77.8|                 74.0|                   0|   4.6|            364.9752287|      99.0|       0|58.0|                                   0| 99.0|             6.0|     99.0|      0.1| 3954.22783|    28873.0|                  1.2|                1.3|                                 0.762|         14.2|                   82.8|\n",
            "| 17|            Albania| 2014|Developing|            77.5|                  8.0|                   0|  4.51|            428.7490668|      98.0|       0|57.2|                                   1| 98.0|            5.88|     98.0|      0.1|4575.763787|   288914.0|                  1.2|                1.3|                                 0.761|         14.2|                   82.5|\n",
            "| 32|            Algeria| 2015|Developing|            75.6|                 19.0|                  21|  NULL|                    0.0|      95.0|      63|59.5|                                  24| 95.0|            NULL|     95.0|      0.1| 4132.76292|3.9871528E7|                  6.0|                5.8|                                 0.743|         14.4|                   80.6|\n",
            "| 33|            Algeria| 2014|Developing|            75.4|                 11.0|                  21|  0.01|             54.2373183|      95.0|       0|58.4|                                  24| 95.0|            7.21|     95.0|      0.1|   547.8517|3.9113313E7|                  6.0|                5.8|                                 0.741|         14.4|                   80.4|\n",
            "| 48|             Angola| 2015|Developing|            52.4|                335.0|                  66|  NULL|                    0.0|      64.0|     118|23.3|                                  98|  7.0|            NULL|     64.0|      1.9|3695.793748|  2785935.0|                  8.3|                8.2|                                 0.531|         11.4|                   57.4|\n",
            "| 49|             Angola| 2014|Developing|            51.7|                348.0|                  67|  8.33|              23.965612|      64.0|   11699|22.7|                                 101| 68.0|            3.31|     64.0|      2.0|  479.31224|  2692466.0|                  8.5|                8.3|                                 0.527|         11.4|                   56.7|\n",
            "| 64|Antigua and Barbuda| 2015|Developing|            76.4|                 13.0|                   0|  NULL|                    0.0|      99.0|       0|47.7|                                   0| 86.0|            NULL|     99.0|      0.2| 13566.9541|       NULL|                  3.3|                3.3|                                 0.784|         13.9|                   81.4|\n",
            "| 65|Antigua and Barbuda| 2014|Developing|            76.2|                131.0|                   0|  8.56|            2422.999774|      99.0|       0|47.0|                                   0| 96.0|            5.54|     99.0|      0.2|12888.29667|       NULL|                  3.3|                3.3|                                 0.782|         13.9|                   81.2|\n",
            "| 80|          Argentina| 2015|Developing|            76.3|                116.0|                   8|  NULL|                    0.0|      94.0|       0|62.8|                                   9| 93.0|            NULL|     94.0|      0.1| 13467.1236|4.3417765E7|                  1.0|                0.9|                                 0.826|         17.3|                   81.3|\n",
            "| 81|          Argentina| 2014|Developing|            76.2|                118.0|                   8|  7.93|            847.3717463|      94.0|       1|62.2|                                   9| 92.0|            4.79|     94.0|      0.1|12245.25645|4.2981515E7|                  1.0|                0.9|                                 0.825|         17.3|                   81.2|\n",
            "| 96|            Armenia| 2015|Developing|            74.8|                118.0|                   1|  NULL|                    0.0|      94.0|      33|54.9|                                   1| 96.0|            NULL|     94.0|      0.1| 369.654776|   291695.0|                  2.1|                2.2|                                 0.741|         12.7|                   79.8|\n",
            "| 97|            Armenia| 2014|Developing|            74.6|                 12.0|                   1|  3.91|            295.6087143|      93.0|      13|54.1|                                   1| 95.0|            4.48|     93.0|      0.1|3994.712355|    29622.0|                  2.1|                2.1|                                 0.739|         12.7|                   79.6|\n",
            "|112|          Australia| 2015| Developed|            82.8|                 59.0|                   1|  NULL|                    0.0|      93.0|      74|66.6|                                   1| 93.0|            NULL|     93.0|      0.1| 56554.3876|2.3789338E7|                  0.6|                0.6|                                 0.937|         20.4|                   87.8|\n",
            "|113|          Australia| 2014| Developed|            82.7|                  6.0|                   1|  9.71|            10769.36305|      91.0|     340|66.1|                                   1| 92.0|            9.42|     92.0|      0.1| 62214.6912|  2346694.0|                  0.6|                0.6|                                 0.936|         20.4|                   87.7|\n",
            "|128|            Austria| 2015| Developed|            81.5|                 65.0|                   0|  NULL|                    0.0|      93.0|     309|57.6|                                   0| 93.0|            NULL|     93.0|      0.1|  43665.947|  8633169.0|                  1.9|                2.1|                                 0.892|         15.9|                   86.5|\n",
            "|129|            Austria| 2014| Developed|            81.4|                 66.0|                   0| 12.32|            8350.193523|      98.0|     117|57.1|                                   0| 98.0|           11.21|     98.0|      0.1|51322.63997|  8541575.0|                  1.8|                2.0|                                 0.892|         15.9|                   86.4|\n",
            "|144|         Azerbaijan| 2015|Developing|            72.7|                118.0|                   5|  NULL|                    0.0|      96.0|       0|52.5|                                   6| 98.0|            NULL|     96.0|      0.1|   55.31382|  9649341.0|                  2.8|                2.9|                                 0.758|         12.7|                   77.7|\n",
            "|145|         Azerbaijan| 2014|Developing|            72.5|                119.0|                   5|  0.01|            306.1824313|      94.0|       0|51.5|                                   6| 97.0|             6.4|     94.0|      0.1|7891.299776|   953579.0|                  2.8|                2.9|                                 0.752|         12.2|                   77.5|\n",
            "+---+-------------------+-----+----------+----------------+---------------------+--------------------+------+-----------------------+----------+--------+----+------------------------------------+-----+----------------+---------+---------+-----------+-----------+---------------------+-------------------+--------------------------------------+-------------+-----------------------+\n",
            "only showing top 20 rows\n",
            "\n"
          ]
        }
      ]
    },
    {
      "cell_type": "code",
      "source": [
        "df.groupBy(\"Pays\").count().show()                                    # Agréger\n",
        "\n"
      ],
      "metadata": {
        "colab": {
          "base_uri": "https://localhost:8080/"
        },
        "id": "pEKTr7niyZBY",
        "outputId": "c7e9f010-f703-4183-8e5d-c4745def1a8e"
      },
      "execution_count": null,
      "outputs": [
        {
          "output_type": "stream",
          "name": "stdout",
          "text": [
            "+--------------------+-----+\n",
            "|                Pays|count|\n",
            "+--------------------+-----+\n",
            "|       Côte d'Ivoire|   16|\n",
            "|                Chad|   16|\n",
            "|Micronesia (Feder...|   16|\n",
            "|            Paraguay|   16|\n",
            "|               Yemen|   16|\n",
            "|             Senegal|   16|\n",
            "|          Cabo Verde|   16|\n",
            "|              Sweden|   16|\n",
            "|            Kiribati|   16|\n",
            "|   Republic of Korea|   16|\n",
            "|              Guyana|   16|\n",
            "|             Eritrea|   16|\n",
            "|         Philippines|   16|\n",
            "|            Djibouti|   16|\n",
            "|               Tonga|   16|\n",
            "|            Malaysia|   16|\n",
            "|           Singapore|   16|\n",
            "|                Fiji|   16|\n",
            "|              Turkey|   16|\n",
            "|              Malawi|   16|\n",
            "+--------------------+-----+\n",
            "only showing top 20 rows\n",
            "\n"
          ]
        }
      ]
    },
    {
      "cell_type": "code",
      "source": [
        "df.groupBy(\"Pays\").avg(\"Espérance de vie\").show()"
      ],
      "metadata": {
        "colab": {
          "base_uri": "https://localhost:8080/"
        },
        "id": "NJu2FFbR0EI3",
        "outputId": "36b7f3aa-4eb2-480c-a688-86748e84ec45"
      },
      "execution_count": null,
      "outputs": [
        {
          "output_type": "stream",
          "name": "stdout",
          "text": [
            "+--------------------+---------------------+\n",
            "|                Pays|avg(Espérance de vie)|\n",
            "+--------------------+---------------------+\n",
            "|       Côte d'Ivoire|              50.3875|\n",
            "|                Chad|              50.3875|\n",
            "|Micronesia (Feder...|                 68.2|\n",
            "|            Paraguay|              73.1125|\n",
            "|               Yemen|   63.862500000000004|\n",
            "|             Senegal|             62.56875|\n",
            "|          Cabo Verde|             72.51875|\n",
            "|              Sweden|             82.51875|\n",
            "|            Kiribati|    65.14999999999999|\n",
            "|   Republic of Korea|              80.4875|\n",
            "|              Guyana|              65.6375|\n",
            "|             Eritrea|              60.6875|\n",
            "|         Philippines|    67.57499999999999|\n",
            "|            Djibouti|             60.75625|\n",
            "|               Tonga|    72.53124999999999|\n",
            "|            Malaysia|    73.75625000000001|\n",
            "|           Singapore|    81.47500000000001|\n",
            "|                Fiji|              68.7125|\n",
            "|              Turkey|              73.9125|\n",
            "|              Malawi|   49.893750000000004|\n",
            "+--------------------+---------------------+\n",
            "only showing top 20 rows\n",
            "\n"
          ]
        }
      ]
    },
    {
      "cell_type": "code",
      "source": [
        "# Afficher uniquement les français avec Espérance de vie de plus de 70 ans\n",
        "df.filter((col(\"Pays\") == \"France\") & (col(\"Espérance de vie\") > 70)).show()\n"
      ],
      "metadata": {
        "colab": {
          "base_uri": "https://localhost:8080/"
        },
        "id": "7MaxdCEOxY_I",
        "outputId": "5aa9d71f-d99f-40d5-8807-2f6c028aa37b"
      },
      "execution_count": null,
      "outputs": [
        {
          "output_type": "stream",
          "name": "stdout",
          "text": [
            "+---+------+-----+----------+----------------+---------------------+--------------------+------+-----------------------+----------+--------+----+------------------------------------+-----+----------------+---------+---------+-----------+-----------+---------------------+-------------------+--------------------------------------+-------------+-----------------------+\n",
            "|_c0|  Pays|Année|    Statut|Espérance de vie|Mortalité des adultes|Décès de nourrissons|Alcool|Dépenses en pourcentage|Hépatite B|Rougeole| IMC|Décès d'enfants de moins de cinq ans|Polio|Dépenses totales|Diphtérie|VIH/SIDA |        PIB| Population| thinness  1-19 years| thinness 5-9 years|Composition des revenus des ressources|Scolarisation|Espérance de vie_plus_5|\n",
            "+---+------+-----+----------+----------------+---------------------+--------------------+------+-----------------------+----------+--------+----+------------------------------------+-----+----------------+---------+---------+-----------+-----------+---------------------+-------------------+--------------------------------------+-------------+-----------------------+\n",
            "|930|France| 2015|Developing|            82.4|                 78.0|                   2|  NULL|                    0.0|      86.0|     157|62.5|                                   3| 98.0|            NULL|     98.0|      0.1| 36526.7711|  6662468.0|                  0.7|                0.6|                                 0.894|         16.3|                   87.4|\n",
            "|931|France| 2014|Developing|            82.2|                 79.0|                   3|  11.5|            6739.677606|      83.0|     267|62.0|                                   3| 98.0|           11.54|     98.0|      0.1|42955.24287|6.6331957E7|                  0.6|                0.6|                                  0.89|         16.2|                   87.2|\n",
            "|932|France| 2013|Developing|            82.0|                 81.0|                   3|  11.1|            6646.953935|      74.0|     272|61.6|                                   3| 99.0|           11.56|     99.0|      0.1| 42554.1225|  6599857.0|                  0.6|                0.6|                                 0.887|         16.2|                   87.0|\n",
            "|933|France| 2012|Developing|            81.5|                 83.0|                   3|  11.5|            751.3793553|      78.0|       0|61.1|                                   3| 99.0|           11.44|     99.0|      0.1|  4838.2444|  6565979.0|                  0.6|                0.6|                                 0.885|         16.1|                   86.5|\n",
            "|934|France| 2011|Developing|            81.7|                 83.0|                   3|  11.8|            683.9190568|      74.0|   14949| 6.6|                                   3| 99.0|           11.33|     99.0|      0.1|   4381.288|6.5342776E7|                  0.6|                0.6|                                 0.882|         16.1|                   86.7|\n",
            "|935|France| 2010|Developing|            81.3|                 86.0|                   3|  11.7|             72.8001211|      65.0|    5048| 6.1|                                   3| 99.0|            11.2|     99.0|      0.1|  473.34279|  6527512.0|                  0.6|                0.6|                                 0.879|         16.0|                   86.3|\n",
            "|936|France| 2009|Developing|            81.1|                 88.0|                   3|  11.8|             6415.35735|      51.0|    1541|59.6|                                   3| 98.0|           11.28|     98.0|      0.1|41631.13141|   647744.0|                  0.6|                0.6|                                 0.879|         16.0|                   86.1|\n",
            "|937|France| 2008|Developing|            89.0|                 88.0|                   3|  11.9|            7002.785925|      47.0|     604|59.1|                                   3| 98.0|            1.57|     98.0|      0.1| 45413.6571|  6437499.0|                  0.6|                0.6|                                 0.877|         16.1|                   94.0|\n",
            "|938|France| 2007|Developing|            89.0|                 89.0|                   3|  12.2|            64.73714894|      42.0|      39|58.6|                                   3| 99.0|            1.45|     98.0|      0.1|  416.58397|  6416229.0|                  0.6|                0.6|                                 0.873|         16.1|                   94.0|\n",
            "|939|France| 2006|Developing|            86.0|                 92.0|                   3|  12.4|            5689.991931|      39.0|      40|58.0|                                   4| 99.0|            1.53|     99.0|      0.1| 36544.5853|6.3621376E7|                  0.6|                0.6|                                  0.87|         16.1|                   91.0|\n",
            "|940|France| 2005|Developing|            81.0|                 93.0|                   3|  12.2|            5451.701225|      35.0|      36|57.5|                                   4| 98.0|             1.6|     98.0|      0.1|34879.72633|6.3179356E7|                  0.6|                0.6|                                  0.86|         15.5|                   86.0|\n",
            "|941|France| 2004|Developing|            82.0|                 94.0|                   3| 13.18|            5291.234786|      35.0|    4448|57.0|                                   4| 99.0|            1.53|     98.0|      0.1|33874.74255|  6274897.0|                  0.6|                0.6|                                 0.857|         15.5|                   87.0|\n",
            "|942|France| 2003|Developing|            79.3|                 99.0|                   3| 13.49|            4572.441963|      28.0|       0|56.4|                                   4| 96.0|            1.43|     97.0|      0.1|29691.18158|6.2244884E7|                  0.6|                0.6|                                 0.852|         15.4|                   84.3|\n",
            "|943|France| 2002|Developing|            79.2|                 11.0|                   3| 13.78|            3779.655273|      29.0|    5185|55.8|                                   4| 97.0|            1.22|     97.0|      0.1| 24275.2426|  6185267.0|                  0.7|                0.6|                                 0.851|         15.5|                   84.2|\n",
            "|944|France| 2001|Developing|            79.0|                 13.0|                   3| 13.89|            3451.185079|      28.0|       0|55.2|                                   4| 98.0|            9.89|     97.0|      0.1|22527.31775|6.1357431E7|                  0.7|                0.6|                                 0.849|         15.6|                   84.0|\n",
            "|945|France| 2000|Developing|            78.8|                 13.0|                   3| 13.63|            3410.284431|      26.0|   10000|54.6|                                   4| 98.0|            9.77|     97.0|      0.1|22465.64184|  6912498.0|                  0.7|                0.6|                                 0.844|         15.7|                   83.8|\n",
            "+---+------+-----+----------+----------------+---------------------+--------------------+------+-----------------------+----------+--------+----+------------------------------------+-----+----------------+---------+---------+-----------+-----------+---------------------+-------------------+--------------------------------------+-------------+-----------------------+\n",
            "\n"
          ]
        }
      ]
    },
    {
      "cell_type": "code",
      "source": [
        "df.select(\"Pays\", \"Espérance de vie\").filter(col(\"Pays\") == \"France\").filter(col(\"Espérance de vie\") > 70).show()"
      ],
      "metadata": {
        "colab": {
          "base_uri": "https://localhost:8080/"
        },
        "id": "Jf0vQK73xZhp",
        "outputId": "069b4d01-3a33-44e8-f9a3-949be37f497a"
      },
      "execution_count": null,
      "outputs": [
        {
          "output_type": "stream",
          "name": "stdout",
          "text": [
            "+------+----------------+\n",
            "|  Pays|Espérance de vie|\n",
            "+------+----------------+\n",
            "|France|            82.4|\n",
            "|France|            82.2|\n",
            "|France|            82.0|\n",
            "|France|            81.5|\n",
            "|France|            81.7|\n",
            "|France|            81.3|\n",
            "|France|            81.1|\n",
            "|France|            89.0|\n",
            "|France|            89.0|\n",
            "|France|            86.0|\n",
            "|France|            81.0|\n",
            "|France|            82.0|\n",
            "|France|            79.3|\n",
            "|France|            79.2|\n",
            "|France|            79.0|\n",
            "|France|            78.8|\n",
            "+------+----------------+\n",
            "\n"
          ]
        }
      ]
    },
    {
      "cell_type": "markdown",
      "source": [
        "## 5.Transformations vs Actions"
      ],
      "metadata": {
        "id": "XNxoAy3B2Ywf"
      }
    },
    {
      "cell_type": "code",
      "source": [
        "filtre = df.filter(col(\"Année\") > 2014)  # Transformation\n",
        "\n"
      ],
      "metadata": {
        "id": "9C9lVs2Y2Xmf"
      },
      "execution_count": null,
      "outputs": []
    },
    {
      "cell_type": "code",
      "source": [
        "filtre.count()  # Action -> déclenche le calcul"
      ],
      "metadata": {
        "colab": {
          "base_uri": "https://localhost:8080/"
        },
        "id": "1K4SgG_zxZlL",
        "outputId": "1da49f26-b6d2-45f4-a2cb-8e74cca21ab3"
      },
      "execution_count": null,
      "outputs": [
        {
          "output_type": "execute_result",
          "data": {
            "text/plain": [
              "183"
            ]
          },
          "metadata": {},
          "execution_count": 153
        }
      ]
    },
    {
      "cell_type": "markdown",
      "source": [
        "##6. Qu’est-ce qu’un RDD ?\n",
        "Un RDD est une collection distribuée d’objets, répartie sur plusieurs nœuds du cluster. Les RDDs permettent des opérations parallèles, tolérantes aux pannes"
      ],
      "metadata": {
        "id": "4VuaovIq3pDf"
      }
    },
    {
      "cell_type": "markdown",
      "source": [
        "## a. Création d’un RDD à partir d’une liste Python"
      ],
      "metadata": {
        "id": "lKA8zIQ_4Npn"
      }
    },
    {
      "cell_type": "code",
      "source": [
        "rdd = spark.sparkContext.parallelize([1, 2, 3, 4, 5, 6, 7, 8, 9, 10])\n"
      ],
      "metadata": {
        "id": "jGU7knX838Hh"
      },
      "execution_count": 7,
      "outputs": []
    },
    {
      "cell_type": "code",
      "source": [
        "rdd2 = rdd.map(lambda x: x +2)                              #ransformation avec map\n",
        "print(rdd2.collect())\n"
      ],
      "metadata": {
        "colab": {
          "base_uri": "https://localhost:8080/"
        },
        "id": "r5ZFSNbP7Xe2",
        "outputId": "89822e6c-23e4-46d3-d82c-7086dbda35ce"
      },
      "execution_count": null,
      "outputs": [
        {
          "output_type": "stream",
          "name": "stdout",
          "text": [
            "[3, 4, 5, 6, 7, 8, 9, 10, 11, 12]\n"
          ]
        }
      ]
    },
    {
      "cell_type": "code",
      "source": [
        "rdd_filtre = rdd2.filter(lambda x: x % 2 == 0)\n",
        "print(rdd_filtre.collect())\n"
      ],
      "metadata": {
        "colab": {
          "base_uri": "https://localhost:8080/"
        },
        "id": "KhvQaV6O8gNF",
        "outputId": "e1e1a89c-008f-427b-fe46-cc78d00915e4"
      },
      "execution_count": null,
      "outputs": [
        {
          "output_type": "stream",
          "name": "stdout",
          "text": [
            "[4, 6, 8, 10, 12]\n"
          ]
        }
      ]
    },
    {
      "cell_type": "markdown",
      "source": [
        "## b. Création d’un RDDà partir d’un fichier texte"
      ],
      "metadata": {
        "id": "0GP_Q2-W5qOm"
      }
    },
    {
      "cell_type": "code",
      "source": [
        "rdd3 = spark.sparkContext.textFile(\"Data_science.txt\")   #  Charger le fichier .txt en RDD\n"
      ],
      "metadata": {
        "id": "I-l0uotv589P"
      },
      "execution_count": 12,
      "outputs": []
    },
    {
      "cell_type": "code",
      "source": [
        "rdd3.take(5)  # Affiche les 5 premières lignes\n"
      ],
      "metadata": {
        "colab": {
          "base_uri": "https://localhost:8080/"
        },
        "id": "25hYELCpAexr",
        "outputId": "7badf85c-0a91-49a3-ecfb-462106b7f450"
      },
      "execution_count": 13,
      "outputs": [
        {
          "output_type": "execute_result",
          "data": {
            "text/plain": [
              "['La data science est un domaine interdisciplinaire qui utilise des méthodes scientifiques, des algorithmes et des systèmes pour extraire des connaissances et des insights à partir de données structurées et non structurées. Elle combine des compétences issues des mathématiques, de la statistique, de l’informatique et du domaine métier.',\n",
              " 'Au cœur de la data science, on trouve des étapes clés : la collecte de données, le nettoyage, l’exploration, l’analyse et la modélisation prédictive. Les données peuvent provenir de diverses sources : bases de données, capteurs IoT, réseaux sociaux, fichiers log, etc. Une grande partie du travail du data scientist consiste à rendre ces données exploitables, ce qui inclut la gestion des valeurs manquantes, des doublons et des formats incohérents.',\n",
              " 'Les outils et langages les plus courants sont Python, R, SQL, ainsi que des bibliothèques comme pandas, scikit-learn, TensorFlow, ou encore PySpark pour le traitement de données volumineuses. Les data scientists utilisent aussi des outils de visualisation comme Matplotlib, Seaborn, ou Tableau pour interpréter et communiquer les résultats.',\n",
              " 'Les cas d’usage de la data science sont nombreux : recommandations (Netflix, Amazon), détection de fraude, analyse marketing, santé prédictive, voitures autonomes, etc. L’apprentissage automatique (machine learning) permet de créer des modèles qui apprennent à partir des données et prédisent des comportements ou des résultats futurs.',\n",
              " 'Les métiers autour de la data science sont également variés : data analyst, data engineer, machine learning engineer, et bien sûr data scientist. Chacun joue un rôle spécifique dans le cycle de vie de la donnée.']"
            ]
          },
          "metadata": {},
          "execution_count": 13
        }
      ]
    },
    {
      "cell_type": "code",
      "source": [
        "rdd3.count()   #  Compter le nombre de lignes\n"
      ],
      "metadata": {
        "colab": {
          "base_uri": "https://localhost:8080/"
        },
        "id": "ZOYoflEsAeu6",
        "outputId": "04b2eef9-0f57-49b9-867a-6dda6b7ab46f"
      },
      "execution_count": 14,
      "outputs": [
        {
          "output_type": "execute_result",
          "data": {
            "text/plain": [
              "7"
            ]
          },
          "metadata": {},
          "execution_count": 14
        }
      ]
    },
    {
      "cell_type": "markdown",
      "source": [
        "Traitement du texte"
      ],
      "metadata": {
        "id": "D7gkNK6wDvo8"
      }
    },
    {
      "cell_type": "code",
      "source": [
        "mots = rdd3.flatMap(lambda ligne: ligne.split(\" \"))  # Séparer en mots\n"
      ],
      "metadata": {
        "id": "kOb0XdHKAerk"
      },
      "execution_count": 15,
      "outputs": []
    },
    {
      "cell_type": "code",
      "source": [
        "import re\n",
        "mots_nettoyes = mots.map(lambda mot: re.sub(r'\\W+', '', mot.lower())).filter(lambda mot: mot != \"\")  # Nettoyer les mots (ponctuation + minuscules)\n"
      ],
      "metadata": {
        "id": "XMAfhP5uAeoF"
      },
      "execution_count": 16,
      "outputs": []
    },
    {
      "cell_type": "code",
      "source": [
        "\n",
        "# Compter la fréquence des mots\n",
        "\n",
        "paires = mots_nettoyes.map(lambda mot: (mot, 1))\n",
        "frequence_mots = paires.reduceByKey(lambda a, b: a + b)\n",
        "\n",
        "# Trier les mots par fréquence décroissante\n",
        "mots_tries = frequence_mots.sortBy(lambda x: x[1], ascending=False)\n",
        "mots_tries.take(10)  # Afficher les 10 mots les plus fréquents\n",
        "\n",
        "\n"
      ],
      "metadata": {
        "colab": {
          "base_uri": "https://localhost:8080/"
        },
        "id": "MDLi-27pAekk",
        "outputId": "e8cb7829-f15b-4d06-ea22-7d80f6f7c3ce"
      },
      "execution_count": 18,
      "outputs": [
        {
          "output_type": "execute_result",
          "data": {
            "text/plain": [
              "[('des', 21),\n",
              " ('de', 17),\n",
              " ('la', 14),\n",
              " ('data', 12),\n",
              " ('et', 11),\n",
              " ('données', 9),\n",
              " ('les', 8),\n",
              " ('science', 6),\n",
              " ('à', 4),\n",
              " ('le', 4)]"
            ]
          },
          "metadata": {},
          "execution_count": 18
        }
      ]
    },
    {
      "cell_type": "markdown",
      "source": [],
      "metadata": {
        "id": "GJtQLKABn_ZS"
      }
    }
  ]
}